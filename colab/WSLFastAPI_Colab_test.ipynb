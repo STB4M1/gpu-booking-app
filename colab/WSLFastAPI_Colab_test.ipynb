{
  "cells": [
    {
      "cell_type": "code",
      "execution_count": null,
      "metadata": {
        "colab": {
          "base_uri": "https://localhost:8080/"
        },
        "id": "Rc8wbg2w2QYW",
        "outputId": "bffd9f39-f82e-42d0-8fcf-81a2d2fff4f5"
      },
      "outputs": [
        {
          "output_type": "stream",
          "name": "stdout",
          "text": [
            "Archive:  ngrok-stable-linux-amd64.zip\n",
            "  inflating: ngrok                   \n"
          ]
        }
      ],
      "source": [
        "# ✅ ngrok バイナリをダウンロード＆展開＆配置\n",
        "!wget -q -c https://bin.equinox.io/c/bNyj1mQVY4c/ngrok-stable-linux-amd64.zip\n",
        "!unzip -o ngrok-stable-linux-amd64.zip\n",
        "!mv ngrok /usr/local/bin/ngrok"
      ]
    },
    {
      "cell_type": "code",
      "execution_count": null,
      "metadata": {
        "id": "yxm5brGF1IU5",
        "colab": {
          "base_uri": "https://localhost:8080/"
        },
        "outputId": "0e76cb16-b759-4482-ac8d-49c8e84f1a48"
      },
      "outputs": [
        {
          "output_type": "stream",
          "name": "stdout",
          "text": [
            "🔐 ngrok token を入力してください: ··········\n",
            "Authtoken saved to configuration file: /root/.config/ngrok/ngrok.yml\n"
          ]
        }
      ],
      "source": [
        "from huggingface_hub import login\n",
        "from getpass import getpass\n",
        "\n",
        "# 🔐 ngrok トークン\n",
        "ngrok_token = getpass(\"🔐 ngrok token を入力してください: \")\n",
        "!ngrok config add-authtoken {ngrok_token}"
      ]
    },
    {
      "cell_type": "code",
      "execution_count": null,
      "metadata": {
        "colab": {
          "base_uri": "https://localhost:8080/"
        },
        "id": "W5z_ACiA1YS2",
        "outputId": "225243e6-a7a8-45b9-f319-3c7bd60bc470"
      },
      "outputs": [
        {
          "output_type": "stream",
          "name": "stdout",
          "text": [
            "🌍 Colab構造化API URL（.envに貼る用）:\n",
            "https://fcc6-34-90-194-233.ngrok-free.app\n",
            " * Serving Flask app '__main__'\n"
          ]
        }
      ],
      "source": [
        "import subprocess\n",
        "import time\n",
        "import requests\n",
        "\n",
        "# 🔄 ngrok 起動（バックグラウンド）\n",
        "subprocess.Popen([\"ngrok\", \"http\", \"5000\"])\n",
        "\n",
        "# ⏳ ngrokのURL取得まで待機\n",
        "time.sleep(7)\n",
        "\n",
        "try:\n",
        "    res = requests.get(\"http://localhost:4040/api/tunnels\")\n",
        "    tunnels = res.json()[\"tunnels\"]\n",
        "    tunnel_url = [t[\"public_url\"] for t in tunnels if t[\"proto\"] == \"https\"][0]\n",
        "    print(\"🌍 Colab構造化API URL（.envに貼る用）:\")\n",
        "    print(tunnel_url)\n",
        "except Exception as e:\n",
        "    print(\"❌ ngrok URL取得エラー:\", e)\n",
        "\n",
        "\n",
        "\n",
        "\n",
        "from flask import Flask, request, jsonify\n",
        "import re, json, threading\n",
        "import sys\n",
        "\n",
        "app = Flask(__name__)\n",
        "\n",
        "def extract_json(text):\n",
        "    try:\n",
        "        match = re.search(r\"\\{.*?\\}\", text, re.DOTALL)\n",
        "        if match:\n",
        "            json_str = match.group()\n",
        "            print(\"🔍 抽出したJSON候補:\", json_str)\n",
        "            return json.loads(json_str)\n",
        "        return {}\n",
        "    except Exception as e:\n",
        "        print(\"❌ JSON抽出エラー:\", e)\n",
        "        return {}\n",
        "\n",
        "@app.route(\"/ping\", methods=[\"GET\"])\n",
        "def ping():\n",
        "    return \"pong\"\n",
        "\n",
        "# analyze関数をこうする\n",
        "@app.route(\"/analyze\", methods=[\"POST\"])\n",
        "def analyze():\n",
        "    with open(\"/content/flask_log.txt\", \"w\") as f:\n",
        "        f.write(\"🔥🔥🔥 /analyze が呼び出された！ 🔥🔥🔥\\n\")\n",
        "        data = request.get_json()\n",
        "        f.write(f\"📥 受け取った自然文: {data}\\n\")\n",
        "    return jsonify({\n",
        "        \"start_time\": \"2025-06-02T06:00:00\",\n",
        "        \"end_time\": \"2025-06-02T07:00:00\",\n",
        "        \"purpose\": \"研究でGPUを使うため\",\n",
        "        \"priority_score\": 0.90,\n",
        "        \"server_name\": \"A100\",\n",
        "        \"received_text\": data.get(\"text\", \"N/A\")\n",
        "    })\n",
        "\n",
        "# ✅ Flask をバックグラウンドで起動（Colabが止まらない）\n",
        "def run_flask():\n",
        "    app.run(host=\"0.0.0.0\", port=5000)\n",
        "\n",
        "threading.Thread(target=run_flask).start()\n"
      ]
    },
    {
      "cell_type": "code",
      "execution_count": null,
      "metadata": {
        "colab": {
          "base_uri": "https://localhost:8080/"
        },
        "id": "Zlh39Bpg1dRo",
        "outputId": "806a54b1-9b7d-4862-f9d3-d66fe8cb518b"
      },
      "outputs": [
        {
          "output_type": "stream",
          "name": "stderr",
          "text": [
            "INFO:werkzeug:127.0.0.1 - - [06/Jun/2025 04:57:35] \"\u001b[33mPOST /shutdown HTTP/1.1\u001b[0m\" 404 -\n"
          ]
        },
        {
          "output_type": "stream",
          "name": "stdout",
          "text": [
            "🛑 Flask 停止応答: <!doctype html>\n",
            "<html lang=en>\n",
            "<title>404 Not Found</title>\n",
            "<h1>Not Found</h1>\n",
            "<p>The requested URL was not found on the server. If you entered the URL manually please check your spelling and try again.</p>\n",
            "\n"
          ]
        }
      ],
      "source": [
        "# ==============================\n",
        "# 🔌 停止セル：ngrok と Flask を明示的に終了\n",
        "# ==============================\n",
        "\n",
        "import os\n",
        "import signal\n",
        "\n",
        "# ✅ ngrok のプロセス終了（プロセス名ベース）\n",
        "!pkill ngrok\n",
        "\n",
        "# ✅ Flask のスレッド（threading.Thread）を止めるには、通常はランタイム再起動が一番確実だが、\n",
        "#     一応「サーバーを停止するルート」も用意しておけばリモート停止できる（ただしColabでは不安定）\n",
        "\n",
        "import requests\n",
        "\n",
        "try:\n",
        "    # Flask に shutdown 要求を送る（アプリに /shutdown が定義されている場合）\n",
        "    res = requests.post(\"http://localhost:5000/shutdown\")\n",
        "    print(\"🛑 Flask 停止応答:\", res.text)\n",
        "except Exception as e:\n",
        "    print(\"⚠️ Flask 停止リクエスト失敗:\", e)\n"
      ]
    }
  ],
  "metadata": {
    "colab": {
      "provenance": []
    },
    "kernelspec": {
      "display_name": "Python 3",
      "name": "python3"
    },
    "language_info": {
      "name": "python"
    }
  },
  "nbformat": 4,
  "nbformat_minor": 0
}